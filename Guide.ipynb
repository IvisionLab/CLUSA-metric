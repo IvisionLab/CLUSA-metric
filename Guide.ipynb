{
 "cells": [
  {
   "cell_type": "markdown",
   "id": "express-convention",
   "metadata": {},
   "source": [
    "# Modelling perceptions on the evaluation of video summarization\n",
    "## Kalyf Abdalla, Igor Menezes and Luciano Oliveira\n",
    "\n",
    "### DOI: https://doi.org/10.1016/j.eswa.2019.04.065\n",
    "\n",
    "#### If you use this package, please cite our work:\n",
    "@article{ABDALLA2019254,\n",
    "title = \"Modelling perceptions on the evaluation of video summarization\",\n",
    "journal = \"Expert Systems with Applications\",\n",
    "volume = \"131\",\n",
    "pages = \"254 - 265\",\n",
    "year = \"2019\",\n",
    "issn = \"0957-4174\",\n",
    "doi = \"https://doi.org/10.1016/j.eswa.2019.04.065\",\n",
    "url = \"http://www.sciencedirect.com/science/article/pii/S095741741930301X\",\n",
    "author = \"Kalyf Abdalla and Igor Menezes and Luciano Oliveira\",\n",
    "keywords = \"Video summarization, Subjective evaluation, Evaluation metric\"\n",
    "}"
   ]
  },
  {
   "cell_type": "markdown",
   "id": "optimum-nigeria",
   "metadata": {},
   "source": [
    "## A guide to use evaluation metrics in this package:"
   ]
  },
  {
   "cell_type": "code",
   "execution_count": 1,
   "id": "private-alexander",
   "metadata": {},
   "outputs": [],
   "source": [
    "from clusa import metrics\n",
    "import numpy as np"
   ]
  },
  {
   "cell_type": "code",
   "execution_count": 2,
   "id": "british-showcase",
   "metadata": {},
   "outputs": [
    {
     "name": "stdout",
     "output_type": "stream",
     "text": [
      "(20, 3532)\n"
     ]
    }
   ],
   "source": [
    "# This is a matrix of user annotations\n",
    "video_annotation = np.genfromtxt('sample/video_annotation_sample.txt',delimiter=',')\n",
    "\n",
    "# This is a vector of video summarizer's output\n",
    "video_summarizer_output = np.random.randint(1,6,[1,video_annotation.shape[1]])\n",
    "\n",
    "# There are annotations from 20 users\n",
    "print(video_annotation.shape)"
   ]
  },
  {
   "cell_type": "markdown",
   "id": "outdoor-behalf",
   "metadata": {},
   "source": [
    "### Using CLUSA with default parameters"
   ]
  },
  {
   "cell_type": "code",
   "execution_count": 3,
   "id": "capital-thought",
   "metadata": {},
   "outputs": [
    {
     "data": {
      "text/plain": [
       "0.22497185776260029"
      ]
     },
     "execution_count": 3,
     "metadata": {},
     "output_type": "execute_result"
    }
   ],
   "source": [
    "# CLUSA instance\n",
    "clusa = metrics.CLUSA()\n",
    "\n",
    "# Expected variable is the matrix of user annotations\n",
    "# Estimated variable is the vector of video summarizer's output\n",
    "clusa.set_expected_and_estimated(video_annotation, video_summarizer_output)\n",
    "\n",
    "# The output is a single performance score\n",
    "clusa.run()"
   ]
  },
  {
   "cell_type": "markdown",
   "id": "impaired-administration",
   "metadata": {},
   "source": [
    "### Using CLUSA with no weighing"
   ]
  },
  {
   "cell_type": "code",
   "execution_count": 4,
   "id": "following-breach",
   "metadata": {},
   "outputs": [
    {
     "data": {
      "text/plain": [
       "array([       nan,        nan,        nan,        nan, 0.60641412,\n",
       "              nan, 0.3892709 , 0.348583  , 0.22797679, 0.15129403])"
      ]
     },
     "execution_count": 4,
     "metadata": {},
     "output_type": "execute_result"
    }
   ],
   "source": [
    "clusa = metrics.CLUSA()\n",
    "\n",
    "clusa.set_expected_and_estimated(video_annotation, video_summarizer_output)\n",
    "\n",
    "# CLUSA will not weigh performance scores\n",
    "clusa.set_to_weigh(False)\n",
    "\n",
    "# The output is a vector of performance scores\n",
    "clusa.run()"
   ]
  },
  {
   "cell_type": "markdown",
   "id": "constant-version",
   "metadata": {},
   "source": [
    "### Using CLUSA with a different B parameter"
   ]
  },
  {
   "cell_type": "code",
   "execution_count": 5,
   "id": "crucial-player",
   "metadata": {},
   "outputs": [
    {
     "data": {
      "text/plain": [
       "array([       nan,        nan, 0.60641412, 0.36485816, 0.18196713])"
      ]
     },
     "execution_count": 5,
     "metadata": {},
     "output_type": "execute_result"
    }
   ],
   "source": [
    "clusa = metrics.CLUSA()\n",
    "\n",
    "clusa.set_expected_and_estimated(video_annotation, video_summarizer_output)\n",
    "clusa.set_to_weigh(False)\n",
    "\n",
    "# CLUSA will group the compression rates into five ranges\n",
    "clusa.set_b(5)\n",
    "\n",
    "# The output is a vector of five performance scores\n",
    "clusa.run()"
   ]
  },
  {
   "cell_type": "markdown",
   "id": "incomplete-style",
   "metadata": {},
   "source": [
    "### Using CLUSA with a custom weight vector"
   ]
  },
  {
   "cell_type": "code",
   "execution_count": 6,
   "id": "modular-trash",
   "metadata": {},
   "outputs": [
    {
     "data": {
      "text/plain": [
       "0.2954294320026526"
      ]
     },
     "execution_count": 6,
     "metadata": {},
     "output_type": "execute_result"
    }
   ],
   "source": [
    "clusa = metrics.CLUSA()\n",
    "\n",
    "clusa.set_expected_and_estimated(video_annotation, video_summarizer_output)\n",
    "\n",
    "# Setting a custom weight vector\n",
    "clusa.set_weights([0,0,0,0,1])\n",
    "\n",
    "clusa.set_b(5)\n",
    "clusa.run()"
   ]
  },
  {
   "cell_type": "markdown",
   "id": "subsequent-papua",
   "metadata": {},
   "source": [
    "### Using CLUSA with AUC-ROC or AUC-PR."
   ]
  },
  {
   "cell_type": "code",
   "execution_count": 7,
   "id": "outside-office",
   "metadata": {},
   "outputs": [
    {
     "data": {
      "text/plain": [
       "0.36465189731612957"
      ]
     },
     "execution_count": 7,
     "metadata": {},
     "output_type": "execute_result"
    }
   ],
   "source": [
    "clusa = metrics.CLUSA()\n",
    "\n",
    "clusa.set_expected_and_estimated(video_annotation, video_summarizer_output)\n",
    "\n",
    "# Setting theta_AUC_ROC as theta function. The default is theta_AUC_PR.\n",
    "clusa.set_theta(metrics.CLUSA.theta_AUC_ROC) \n",
    "clusa.run()"
   ]
  },
  {
   "cell_type": "markdown",
   "id": "passive-insurance",
   "metadata": {},
   "source": [
    "### Using Kendall ranked correlation coefficient"
   ]
  },
  {
   "cell_type": "code",
   "execution_count": 8,
   "id": "sacred-radiation",
   "metadata": {},
   "outputs": [
    {
     "data": {
      "text/plain": [
       "-0.0014663302290145337"
      ]
     },
     "execution_count": 8,
     "metadata": {},
     "output_type": "execute_result"
    }
   ],
   "source": [
    "kendall = metrics.Kendall()\n",
    "\n",
    "kendall.set_expected_and_estimated(video_annotation, video_summarizer_output)\n",
    "results = kendall.run()\n",
    "np.nanmean(results)"
   ]
  },
  {
   "cell_type": "markdown",
   "id": "swiss-venezuela",
   "metadata": {},
   "source": [
    "### Using Spearman ranked correlation coefficient"
   ]
  },
  {
   "cell_type": "code",
   "execution_count": 9,
   "id": "necessary-reduction",
   "metadata": {},
   "outputs": [
    {
     "data": {
      "text/plain": [
       "-0.0017865030250137615"
      ]
     },
     "execution_count": 9,
     "metadata": {},
     "output_type": "execute_result"
    }
   ],
   "source": [
    "spearman = metrics.Spearman()\n",
    "\n",
    "spearman.set_expected_and_estimated(video_annotation, video_summarizer_output)\n",
    "results = spearman.run()\n",
    "np.nanmean(results)"
   ]
  },
  {
   "cell_type": "markdown",
   "id": "requested-drive",
   "metadata": {},
   "source": [
    "### Using F1 score"
   ]
  },
  {
   "cell_type": "code",
   "execution_count": 10,
   "id": "athletic-sleeve",
   "metadata": {},
   "outputs": [
    {
     "data": {
      "text/plain": [
       "0.19831540203850512"
      ]
     },
     "execution_count": 10,
     "metadata": {},
     "output_type": "execute_result"
    }
   ],
   "source": [
    "f1 = metrics.F1_Score()\n",
    "\n",
    "f1.set_expected_and_estimated(video_annotation, video_summarizer_output)\n",
    "results = f1.run()\n",
    "np.nanmean(results)"
   ]
  },
  {
   "cell_type": "markdown",
   "id": "historic-watershed",
   "metadata": {},
   "source": [
    "### Calculating Cronbach's alpha coefficient for a set of user annotations"
   ]
  },
  {
   "cell_type": "code",
   "execution_count": null,
   "id": "radio-consequence",
   "metadata": {},
   "outputs": [],
   "source": [
    "f1 = metrics.F1_Score()video_annotation, video_summarizer_output)\n",
    "results = f1.run()\n",
    "np.nanmean(results)"
   ]
  }
 ],
 "metadata": {
  "kernelspec": {
   "display_name": "Python 3",
   "language": "python",
   "name": "python3"
  },
  "language_info": {
   "codemirror_mode": {
    "name": "ipython",
    "version": 3
   },
   "file_extension": ".py",
   "mimetype": "text/x-python",
   "name": "python",
   "nbconvert_exporter": "python",
   "pygments_lexer": "ipython3",
   "version": "3.8.5"
  }
 },
 "nbformat": 4,
 "nbformat_minor": 5
}
