{
 "cells": [
  {
   "cell_type": "markdown",
   "id": "express-convention",
   "metadata": {},
   "source": [
    "# Modelling perceptions on the evaluation of video summarization\n",
    "## Kalyf Abdalla, Igor Menezes and Luciano Oliveira\n",
    "\n",
    "### DOI: https://doi.org/10.1016/j.eswa.2019.04.065\n",
    "\n",
    "#### If you use this package, please cite our work:\n",
    "@article{ABDALLA2019254,\n",
    "title = \"Modelling perceptions on the evaluation of video summarization\",\n",
    "journal = \"Expert Systems with Applications\",\n",
    "volume = \"131\",\n",
    "pages = \"254 - 265\",\n",
    "year = \"2019\",\n",
    "issn = \"0957-4174\",\n",
    "doi = \"https://doi.org/10.1016/j.eswa.2019.04.065\",\n",
    "url = \"http://www.sciencedirect.com/science/article/pii/S095741741930301X\",\n",
    "author = \"Kalyf Abdalla and Igor Menezes and Luciano Oliveira\",\n",
    "keywords = \"Video summarization, Subjective evaluation, Evaluation metric\"\n",
    "}"
   ]
  },
  {
   "cell_type": "markdown",
   "id": "optimum-nigeria",
   "metadata": {},
   "source": [
    "## A guide to use evaluation metrics in this package:"
   ]
  },
  {
   "cell_type": "code",
   "execution_count": 1,
   "id": "private-alexander",
   "metadata": {},
   "outputs": [],
   "source": [
    "from clusa import metrics\n",
    "import numpy as np"
   ]
  },
  {
   "cell_type": "code",
   "execution_count": 2,
   "id": "british-showcase",
   "metadata": {},
   "outputs": [
    {
     "name": "stdout",
     "output_type": "stream",
     "text": [
      "(20, 3532)\n"
     ]
    }
   ],
   "source": [
    "# This is a matrix of user annotations\n",
    "video_annotation = np.genfromtxt('sample/video_annotation_sample.txt',delimiter=',')\n",
    "\n",
    "# This is a vector of video summarizer's output\n",
    "video_summarizer_output = np.random.randint(1,6,[1,video_annotation.shape[1]])\n",
    "\n",
    "# There are annotations from 20 users\n",
    "print(video_annotation.shape)"
   ]
  },
  {
   "cell_type": "markdown",
   "id": "outdoor-behalf",
   "metadata": {},
   "source": [
    "### Using CLUSA with default parameters"
   ]
  },
  {
   "cell_type": "code",
   "execution_count": 3,
   "id": "capital-thought",
   "metadata": {},
   "outputs": [
    {
     "data": {
      "text/plain": [
       "0.22530908479541928"
      ]
     },
     "execution_count": 3,
     "metadata": {},
     "output_type": "execute_result"
    }
   ],
   "source": [
    "# CLUSA instance\n",
    "clusa = metrics.CLUSA()\n",
    "\n",
    "# Expected variable is the matrix of user annotations\n",
    "# Estimated variable is the vector of video summarizer's output\n",
    "clusa.set_expected_and_estimated(video_annotation, video_summarizer_output)\n",
    "\n",
    "# The output is a single performance score\n",
    "clusa.run()"
   ]
  },
  {
   "cell_type": "markdown",
   "id": "impaired-administration",
   "metadata": {},
   "source": [
    "### Using CLUSA with no weighing"
   ]
  },
  {
   "cell_type": "code",
   "execution_count": 4,
   "id": "following-breach",
   "metadata": {},
   "outputs": [
    {
     "data": {
      "text/plain": [
       "array([       nan,        nan,        nan,        nan, 0.60549058,\n",
       "              nan, 0.38945882, 0.34614355, 0.23048168, 0.15306247])"
      ]
     },
     "execution_count": 4,
     "metadata": {},
     "output_type": "execute_result"
    }
   ],
   "source": [
    "clusa = metrics.CLUSA()\n",
    "\n",
    "clusa.set_expected_and_estimated(video_annotation, video_summarizer_output)\n",
    "\n",
    "# CLUSA will not weigh performance scores\n",
    "clusa.set_to_weigh(False)\n",
    "\n",
    "# The output is a vector of performance scores\n",
    "clusa.run()"
   ]
  },
  {
   "cell_type": "markdown",
   "id": "constant-version",
   "metadata": {},
   "source": [
    "### Using CLUSA with a different B parameter"
   ]
  },
  {
   "cell_type": "code",
   "execution_count": 5,
   "id": "crucial-player",
   "metadata": {},
   "outputs": [
    {
     "data": {
      "text/plain": [
       "array([       nan,        nan, 0.60549058, 0.36346966, 0.18403015])"
      ]
     },
     "execution_count": 5,
     "metadata": {},
     "output_type": "execute_result"
    }
   ],
   "source": [
    "clusa = metrics.CLUSA()\n",
    "\n",
    "clusa.set_expected_and_estimated(video_annotation, video_summarizer_output)\n",
    "clusa.set_to_weigh(False)\n",
    "\n",
    "# CLUSA will group the compression rates into five ranges\n",
    "clusa.set_b(5)\n",
    "\n",
    "# The output is a vector of five performance scores\n",
    "clusa.run()"
   ]
  },
  {
   "cell_type": "markdown",
   "id": "incomplete-style",
   "metadata": {},
   "source": [
    "### Using CLUSA with a custom weight vector"
   ]
  },
  {
   "cell_type": "code",
   "execution_count": 6,
   "id": "modular-trash",
   "metadata": {},
   "outputs": [
    {
     "data": {
      "text/plain": [
       "0.29562296282604694"
      ]
     },
     "execution_count": 6,
     "metadata": {},
     "output_type": "execute_result"
    }
   ],
   "source": [
    "clusa = metrics.CLUSA()\n",
    "\n",
    "clusa.set_expected_and_estimated(video_annotation, video_summarizer_output)\n",
    "\n",
    "# Setting a custom weight vector\n",
    "clusa.set_weights([0,0,0,0,1])\n",
    "\n",
    "clusa.set_b(5)\n",
    "clusa.run()"
   ]
  },
  {
   "cell_type": "markdown",
   "id": "passive-insurance",
   "metadata": {},
   "source": [
    "### Using Kendall ranked correlation coefficient"
   ]
  },
  {
   "cell_type": "code",
   "execution_count": 7,
   "id": "sacred-radiation",
   "metadata": {},
   "outputs": [
    {
     "data": {
      "text/plain": [
       "-0.004758840515961207"
      ]
     },
     "execution_count": 7,
     "metadata": {},
     "output_type": "execute_result"
    }
   ],
   "source": [
    "kendall = metrics.Kendall()\n",
    "\n",
    "kendall.set_expected_and_estimated(video_annotation, video_summarizer_output)\n",
    "results = kendall.run()\n",
    "np.nanmean(results)"
   ]
  },
  {
   "cell_type": "markdown",
   "id": "swiss-venezuela",
   "metadata": {},
   "source": [
    "### Using Spearman ranked correlation coefficient"
   ]
  },
  {
   "cell_type": "code",
   "execution_count": 8,
   "id": "necessary-reduction",
   "metadata": {},
   "outputs": [
    {
     "data": {
      "text/plain": [
       "-0.005815274965271214"
      ]
     },
     "execution_count": 8,
     "metadata": {},
     "output_type": "execute_result"
    }
   ],
   "source": [
    "spearman = metrics.Spearman()\n",
    "\n",
    "spearman.set_expected_and_estimated(video_annotation, video_summarizer_output)\n",
    "results = spearman.run()\n",
    "np.nanmean(results)"
   ]
  },
  {
   "cell_type": "markdown",
   "id": "requested-drive",
   "metadata": {},
   "source": [
    "### Using F1 score"
   ]
  },
  {
   "cell_type": "code",
   "execution_count": 9,
   "id": "athletic-sleeve",
   "metadata": {},
   "outputs": [
    {
     "data": {
      "text/plain": [
       "0.2005520951302378"
      ]
     },
     "execution_count": 9,
     "metadata": {},
     "output_type": "execute_result"
    }
   ],
   "source": [
    "f1 = metrics.F1_Score()\n",
    "\n",
    "f1.set_expected_and_estimated(video_annotation, video_summarizer_output)\n",
    "results = f1.run()\n",
    "np.nanmean(results)"
   ]
  },
  {
   "cell_type": "code",
   "execution_count": null,
   "id": "revolutionary-integration",
   "metadata": {},
   "outputs": [],
   "source": []
  }
 ],
 "metadata": {
  "kernelspec": {
   "display_name": "Python 3",
   "language": "python",
   "name": "python3"
  },
  "language_info": {
   "codemirror_mode": {
    "name": "ipython",
    "version": 3
   },
   "file_extension": ".py",
   "mimetype": "text/x-python",
   "name": "python",
   "nbconvert_exporter": "python",
   "pygments_lexer": "ipython3",
   "version": "3.8.5"
  }
 },
 "nbformat": 4,
 "nbformat_minor": 5
}
