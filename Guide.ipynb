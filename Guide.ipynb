{
 "cells": [
  {
   "cell_type": "markdown",
   "id": "southeast-traveler",
   "metadata": {},
   "source": [
    "### This package is based on the following studies:\n",
    "\n",
    "# Modelling perceptions on the evaluation of video summarization\n",
    "##### Kalyf Abdalla, Igor Menezes and Luciano Oliveira\n",
    "### DOI: https://doi.org/10.1016/j.eswa.2019.04.065\n",
    "\n",
    "#### If you use this package, please cite:\n",
    "@article{abdalla2019,\n",
    "title = \"Modelling perceptions on the evaluation of video summarization\",\n",
    "journal = \"Expert Systems with Applications\",\n",
    "volume = \"131\",\n",
    "pages = \"254 - 265\",\n",
    "year = \"2019\",\n",
    "issn = \"0957-4174\",\n",
    "doi = \"https://doi.org/10.1016/j.eswa.2019.04.065\",\n",
    "url = \"http://www.sciencedirect.com/science/article/pii/S095741741930301X\",\n",
    "author = \"Kalyf Abdalla and Igor Menezes and Luciano Oliveira\",\n",
    "keywords = \"Video summarization, Subjective evaluation, Evaluation metric\"\n",
    "}"
   ]
  },
  {
   "cell_type": "code",
   "execution_count": 1,
   "id": "private-alexander",
   "metadata": {},
   "outputs": [],
   "source": [
    "from clusa import metrics\n",
    "import numpy as np"
   ]
  },
  {
   "cell_type": "code",
   "execution_count": 2,
   "id": "british-showcase",
   "metadata": {},
   "outputs": [
    {
     "name": "stdout",
     "output_type": "stream",
     "text": [
      "(20, 3532)\n"
     ]
    }
   ],
   "source": [
    "# This is a matrix of user annotations\n",
    "video_annotation = np.genfromtxt('sample/video_annotation_sample.txt',delimiter=',')\n",
    "\n",
    "# This is a vector of video summarizer's output\n",
    "video_summarizer_output = np.random.randint(1,6,[1,video_annotation.shape[1]])\n",
    "\n",
    "# There are annotations from 20 users\n",
    "print(video_annotation.shape)"
   ]
  },
  {
   "cell_type": "markdown",
   "id": "corrected-division",
   "metadata": {},
   "source": [
    "### Using CLUSA with default parameters"
   ]
  },
  {
   "cell_type": "code",
   "execution_count": 3,
   "id": "capital-thought",
   "metadata": {},
   "outputs": [
    {
     "data": {
      "text/plain": [
       "0.2172901079629725"
      ]
     },
     "execution_count": 3,
     "metadata": {},
     "output_type": "execute_result"
    }
   ],
   "source": [
    "# CLUSA instance\n",
    "clusa = metrics.CLUSA()\n",
    "\n",
    "# Expected variable is the matrix of user annotations\n",
    "# Estimated variable is the vector of video summarizer's output\n",
    "clusa.set_expected_and_estimated(video_annotation, video_summarizer_output)\n",
    "\n",
    "# \n",
    "clusa.run()"
   ]
  },
  {
   "cell_type": "markdown",
   "id": "operational-execution",
   "metadata": {},
   "source": [
    "### Using CLUSA with no weighing"
   ]
  },
  {
   "cell_type": "code",
   "execution_count": 4,
   "id": "posted-chance",
   "metadata": {},
   "outputs": [
    {
     "data": {
      "text/plain": [
       "array([       nan,        nan,        nan,        nan, 0.59832587,\n",
       "              nan, 0.37940827, 0.33333169, 0.21930629, 0.14124148])"
      ]
     },
     "execution_count": 4,
     "metadata": {},
     "output_type": "execute_result"
    }
   ],
   "source": [
    "clusa = metrics.CLUSA()\n",
    "\n",
    "clusa.set_expected_and_estimated(video_annotation, video_summarizer_output)\n",
    "clusa.set_to_weigh(False)\n",
    "clusa.run()"
   ]
  },
  {
   "cell_type": "markdown",
   "id": "vital-devil",
   "metadata": {},
   "source": [
    "### Using CLUSA with a different B parameter"
   ]
  },
  {
   "cell_type": "code",
   "execution_count": 5,
   "id": "married-andrews",
   "metadata": {},
   "outputs": [
    {
     "data": {
      "text/plain": [
       "array([       nan,        nan, 0.59832587, 0.35176232, 0.17246741])"
      ]
     },
     "execution_count": 5,
     "metadata": {},
     "output_type": "execute_result"
    }
   ],
   "source": [
    "clusa = metrics.CLUSA()\n",
    "\n",
    "clusa.set_expected_and_estimated(video_annotation, video_summarizer_output)\n",
    "clusa.set_to_weigh(False)\n",
    "clusa.set_b(5)\n",
    "clusa.run()"
   ]
  },
  {
   "cell_type": "markdown",
   "id": "executed-michael",
   "metadata": {},
   "source": [
    "### Using CLUSA with a different weight vector"
   ]
  },
  {
   "cell_type": "code",
   "execution_count": 6,
   "id": "careful-bundle",
   "metadata": {},
   "outputs": [
    {
     "data": {
      "text/plain": [
       "0.2864397538159257"
      ]
     },
     "execution_count": 6,
     "metadata": {},
     "output_type": "execute_result"
    }
   ],
   "source": [
    "clusa = metrics.CLUSA()\n",
    "\n",
    "clusa.set_expected_and_estimated(video_annotation, video_summarizer_output)\n",
    "clusa.set_weights([0,0,0,0,1])\n",
    "clusa.set_b(5)\n",
    "clusa.run()"
   ]
  },
  {
   "cell_type": "markdown",
   "id": "representative-yahoo",
   "metadata": {},
   "source": [
    "### Using Kendall ranked correlation coefficient"
   ]
  },
  {
   "cell_type": "code",
   "execution_count": 7,
   "id": "optical-premises",
   "metadata": {},
   "outputs": [
    {
     "data": {
      "text/plain": [
       "-0.01900056546626614"
      ]
     },
     "execution_count": 7,
     "metadata": {},
     "output_type": "execute_result"
    }
   ],
   "source": [
    "kendall = metrics.Kendall()\n",
    "\n",
    "kendall.set_expected_and_estimated(video_annotation, video_summarizer_output)\n",
    "results = kendall.run()\n",
    "np.nanmean(results)"
   ]
  },
  {
   "cell_type": "markdown",
   "id": "indonesian-reggae",
   "metadata": {},
   "source": [
    "### Using Spearman ranked correlation coefficient"
   ]
  },
  {
   "cell_type": "code",
   "execution_count": 8,
   "id": "outer-direction",
   "metadata": {},
   "outputs": [
    {
     "data": {
      "text/plain": [
       "-0.023089312139557883"
      ]
     },
     "execution_count": 8,
     "metadata": {},
     "output_type": "execute_result"
    }
   ],
   "source": [
    "spearman = metrics.Spearman()\n",
    "\n",
    "spearman.set_expected_and_estimated(video_annotation, video_summarizer_output)\n",
    "results = spearman.run()\n",
    "np.nanmean(results)"
   ]
  },
  {
   "cell_type": "markdown",
   "id": "economic-purchase",
   "metadata": {},
   "source": [
    "### Using F1 score"
   ]
  },
  {
   "cell_type": "code",
   "execution_count": 9,
   "id": "composite-produce",
   "metadata": {},
   "outputs": [
    {
     "data": {
      "text/plain": [
       "0.19524348810872025"
      ]
     },
     "execution_count": 9,
     "metadata": {},
     "output_type": "execute_result"
    }
   ],
   "source": [
    "f1 = metrics.F1_Score()\n",
    "\n",
    "f1.set_expected_and_estimated(video_annotation, video_summarizer_output)\n",
    "results = f1.run()\n",
    "np.nanmean(results)"
   ]
  },
  {
   "cell_type": "code",
   "execution_count": null,
   "id": "silver-conservation",
   "metadata": {},
   "outputs": [],
   "source": []
  }
 ],
 "metadata": {
  "kernelspec": {
   "display_name": "Python 3",
   "language": "python",
   "name": "python3"
  },
  "language_info": {
   "codemirror_mode": {
    "name": "ipython",
    "version": 3
   },
   "file_extension": ".py",
   "mimetype": "text/x-python",
   "name": "python",
   "nbconvert_exporter": "python",
   "pygments_lexer": "ipython3",
   "version": "3.8.5"
  }
 },
 "nbformat": 4,
 "nbformat_minor": 5
}
